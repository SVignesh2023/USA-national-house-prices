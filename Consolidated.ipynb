{
 "cells": [
  {
   "cell_type": "markdown",
   "metadata": {},
   "source": [
    "<h3>Import necessary libraries</h3>"
   ]
  },
  {
   "cell_type": "code",
   "execution_count": 7,
   "metadata": {},
   "outputs": [],
   "source": [
    "import pandas as pd"
   ]
  },
  {
   "cell_type": "markdown",
   "metadata": {},
   "source": [
    "<h3>Read the data</h3>"
   ]
  },
  {
   "cell_type": "code",
   "execution_count": 8,
   "metadata": {},
   "outputs": [],
   "source": [
    "#All the data is in monthly format unless specified otherwise\n",
    "df_sp=pd.read_csv(\"Data/CSUSHPISA.csv\")\n",
    "df_gdp=pd.read_csv(\"Data/GDP.csv\")   #quarterly\n",
    "df_sqfeet=pd.read_csv(\"Data/HOUSTSFLAA1FQ.csv\")  #quarterly\n",
    "df_permit=pd.read_csv(\"Data/PERMIT1.csv\")\n",
    "df_ratio=pd.read_csv(\"Data/EMRATIO.csv\")\n",
    "df_sold=pd.read_csv(\"Data/HSN1F.csv\")\n",
    "df_mort=pd.read_csv(\"Data/DRSFRMACBS.csv\")   #quarterly\n",
    "df_ownership=pd.read_csv(\"Data/RSAHORUSQ156S.csv\")   #quarterly\n",
    "df_available=pd.read_csv(\"Data/HNFSEPUSSA.csv\")  \n",
    "df_start=pd.read_csv(\"Data/HOUST1F.csv\")\n",
    "df_completed=pd.read_csv(\"Data/COMPU1USA.csv\")\n",
    "df_construct=pd.read_csv(\"Data/TLRESCONS.csv\")"
   ]
  },
  {
   "cell_type": "markdown",
   "metadata": {},
   "source": [
    "<h3>Convert the data which is in quarterly to monthly format</h3>"
   ]
  },
  {
   "cell_type": "code",
   "execution_count": 9,
   "metadata": {},
   "outputs": [],
   "source": [
    "#convert quarterly data to monthly\n",
    "quarterly=[df_gdp,df_sqfeet,df_mort,df_ownership]\n",
    "for i in range(len(quarterly)):\n",
    "    quarterly[i]['DATE']=pd.to_datetime(quarterly[i]['DATE']).dt.to_period('M')\n",
    "    quarterly[i]=quarterly[i].set_index('DATE').resample('M').interpolate()\n",
    "    quarterly[i].reset_index(inplace=True)"
   ]
  },
  {
   "cell_type": "markdown",
   "metadata": {},
   "source": [
    "<h3>Merge the data together</h3>"
   ]
  },
  {
   "cell_type": "code",
   "execution_count": 10,
   "metadata": {},
   "outputs": [],
   "source": [
    "#merge all dataframes together to create a proper dataset\n",
    "merged=pd.concat(([df_sp,df_permit,df_ratio,df_sold,df_available,df_start,df_completed,df_construct]+quarterly),axis=1,join='inner')\n",
    "\n",
    "#remove duplicate columns, in this case it would be the 'DATE' column\n",
    "merged=merged.loc[:, ~merged.columns.duplicated()]"
   ]
  },
  {
   "cell_type": "code",
   "execution_count": 11,
   "metadata": {},
   "outputs": [
    {
     "data": {
      "text/html": [
       "<div>\n",
       "<style scoped>\n",
       "    .dataframe tbody tr th:only-of-type {\n",
       "        vertical-align: middle;\n",
       "    }\n",
       "\n",
       "    .dataframe tbody tr th {\n",
       "        vertical-align: top;\n",
       "    }\n",
       "\n",
       "    .dataframe thead th {\n",
       "        text-align: right;\n",
       "    }\n",
       "</style>\n",
       "<table border=\"1\" class=\"dataframe\">\n",
       "  <thead>\n",
       "    <tr style=\"text-align: right;\">\n",
       "      <th></th>\n",
       "      <th>DATE</th>\n",
       "      <th>CSUSHPISA</th>\n",
       "      <th>PERMIT1</th>\n",
       "      <th>EMRATIO</th>\n",
       "      <th>HSN1F</th>\n",
       "      <th>HNFSEPUSSA</th>\n",
       "      <th>HOUST1F</th>\n",
       "      <th>COMPU1USA</th>\n",
       "      <th>TLRESCONS</th>\n",
       "      <th>GDP</th>\n",
       "      <th>HOUSTSFLAA1FQ</th>\n",
       "      <th>DRSFRMACBS</th>\n",
       "      <th>RSAHORUSQ156S</th>\n",
       "    </tr>\n",
       "  </thead>\n",
       "  <tbody>\n",
       "    <tr>\n",
       "      <th>0</th>\n",
       "      <td>2003-07-01</td>\n",
       "      <td>133.777</td>\n",
       "      <td>1478.0</td>\n",
       "      <td>62.1</td>\n",
       "      <td>1168.0</td>\n",
       "      <td>342.0</td>\n",
       "      <td>1535.0</td>\n",
       "      <td>1424.0</td>\n",
       "      <td>454040.0</td>\n",
       "      <td>11566.669000</td>\n",
       "      <td>2334.000000</td>\n",
       "      <td>1.730000</td>\n",
       "      <td>68.300000</td>\n",
       "    </tr>\n",
       "    <tr>\n",
       "      <th>1</th>\n",
       "      <td>2003-08-01</td>\n",
       "      <td>134.969</td>\n",
       "      <td>1521.0</td>\n",
       "      <td>62.1</td>\n",
       "      <td>1206.0</td>\n",
       "      <td>346.0</td>\n",
       "      <td>1484.0</td>\n",
       "      <td>1329.0</td>\n",
       "      <td>458676.0</td>\n",
       "      <td>11635.190667</td>\n",
       "      <td>2341.666667</td>\n",
       "      <td>1.740000</td>\n",
       "      <td>68.366667</td>\n",
       "    </tr>\n",
       "    <tr>\n",
       "      <th>2</th>\n",
       "      <td>2003-09-01</td>\n",
       "      <td>136.294</td>\n",
       "      <td>1533.0</td>\n",
       "      <td>62.0</td>\n",
       "      <td>1131.0</td>\n",
       "      <td>350.0</td>\n",
       "      <td>1555.0</td>\n",
       "      <td>1413.0</td>\n",
       "      <td>463954.0</td>\n",
       "      <td>11703.712333</td>\n",
       "      <td>2349.333333</td>\n",
       "      <td>1.750000</td>\n",
       "      <td>68.433333</td>\n",
       "    </tr>\n",
       "    <tr>\n",
       "      <th>3</th>\n",
       "      <td>2003-10-01</td>\n",
       "      <td>137.531</td>\n",
       "      <td>1566.0</td>\n",
       "      <td>62.1</td>\n",
       "      <td>1144.0</td>\n",
       "      <td>361.0</td>\n",
       "      <td>1631.0</td>\n",
       "      <td>1479.0</td>\n",
       "      <td>475234.0</td>\n",
       "      <td>11772.234000</td>\n",
       "      <td>2357.000000</td>\n",
       "      <td>1.760000</td>\n",
       "      <td>68.500000</td>\n",
       "    </tr>\n",
       "    <tr>\n",
       "      <th>4</th>\n",
       "      <td>2003-11-01</td>\n",
       "      <td>138.794</td>\n",
       "      <td>1513.0</td>\n",
       "      <td>62.3</td>\n",
       "      <td>1093.0</td>\n",
       "      <td>366.0</td>\n",
       "      <td>1694.0</td>\n",
       "      <td>1439.0</td>\n",
       "      <td>490441.0</td>\n",
       "      <td>11822.638333</td>\n",
       "      <td>2359.666667</td>\n",
       "      <td>1.723333</td>\n",
       "      <td>68.566667</td>\n",
       "    </tr>\n",
       "  </tbody>\n",
       "</table>\n",
       "</div>"
      ],
      "text/plain": [
       "         DATE  CSUSHPISA  PERMIT1  EMRATIO   HSN1F  HNFSEPUSSA  HOUST1F  \\\n",
       "0  2003-07-01    133.777   1478.0     62.1  1168.0       342.0   1535.0   \n",
       "1  2003-08-01    134.969   1521.0     62.1  1206.0       346.0   1484.0   \n",
       "2  2003-09-01    136.294   1533.0     62.0  1131.0       350.0   1555.0   \n",
       "3  2003-10-01    137.531   1566.0     62.1  1144.0       361.0   1631.0   \n",
       "4  2003-11-01    138.794   1513.0     62.3  1093.0       366.0   1694.0   \n",
       "\n",
       "   COMPU1USA  TLRESCONS           GDP  HOUSTSFLAA1FQ  DRSFRMACBS  \\\n",
       "0     1424.0   454040.0  11566.669000    2334.000000    1.730000   \n",
       "1     1329.0   458676.0  11635.190667    2341.666667    1.740000   \n",
       "2     1413.0   463954.0  11703.712333    2349.333333    1.750000   \n",
       "3     1479.0   475234.0  11772.234000    2357.000000    1.760000   \n",
       "4     1439.0   490441.0  11822.638333    2359.666667    1.723333   \n",
       "\n",
       "   RSAHORUSQ156S  \n",
       "0      68.300000  \n",
       "1      68.366667  \n",
       "2      68.433333  \n",
       "3      68.500000  \n",
       "4      68.566667  "
      ]
     },
     "execution_count": 11,
     "metadata": {},
     "output_type": "execute_result"
    }
   ],
   "source": [
    "merged.head()"
   ]
  },
  {
   "cell_type": "markdown",
   "metadata": {},
   "source": [
    "<h3>Save the merged dataframe to .csv file</h3>"
   ]
  },
  {
   "cell_type": "code",
   "execution_count": 12,
   "metadata": {},
   "outputs": [],
   "source": [
    "merged.to_csv('Data/housing_full.csv',index=False)"
   ]
  }
 ],
 "metadata": {
  "kernelspec": {
   "display_name": "Python 3",
   "language": "python",
   "name": "python3"
  },
  "language_info": {
   "codemirror_mode": {
    "name": "ipython",
    "version": 3
   },
   "file_extension": ".py",
   "mimetype": "text/x-python",
   "name": "python",
   "nbconvert_exporter": "python",
   "pygments_lexer": "ipython3",
   "version": "3.10.11"
  }
 },
 "nbformat": 4,
 "nbformat_minor": 2
}
